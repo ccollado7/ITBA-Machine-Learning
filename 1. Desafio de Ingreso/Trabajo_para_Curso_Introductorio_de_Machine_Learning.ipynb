{
 "cells": [
  {
   "cell_type": "markdown",
   "metadata": {
    "colab_type": "text",
    "id": "kegH31D9TmYk"
   },
   "source": [
    "# **Curso introductorio de Machine Learning - Trabajo para Inscripcion**"
   ]
  },
  {
   "cell_type": "markdown",
   "metadata": {
    "colab_type": "text",
    "id": "DMg0wMnCqXpa"
   },
   "source": [
    "<img height=\"150\" src=\"https://i.ibb.co/Tw29ZXd/ieee-cs-mutt.png\">"
   ]
  },
  {
   "cell_type": "markdown",
   "metadata": {
    "colab_type": "text",
    "id": "Pxj3Bz92T-SE"
   },
   "source": [
    "\n",
    "\n",
    "Este trabajo es un proyecto de desarrollo que servirá para que los participantes del curso introductorio de Machine Learning demuestren tener los requerimientos basicos para poder participar.\n",
    "\n",
    "Los ejercicios son breves, asiquen no se preocupen en que les llevara mucho tiempo.\n",
    "\n",
    "**Objetivos a evaluar en el trabajo**:\n",
    "\n",
    "*   Que el participante domine las bases de la programación en Python.\n",
    "*   Que el participante tenga conocimientos elementales sobre la lectura de archivos, procesamiento de datos, y visualización de datos.\n",
    "\n",
    "Se presentan diferentes opciones de proyectos, de dificultad comparable, para que cada uno pueda elegir el que considere más interesante, es decir que deben realizar **UNO sólo** de los proyectos entre las opciones."
   ]
  },
  {
   "cell_type": "markdown",
   "metadata": {
    "colab_type": "text",
    "id": "ACxZpO29SxeN"
   },
   "source": [
    "**Detalles de la entrega**\n",
    "\n",
    "*   Los ejercicios se podran desarrollar en los bloques de codigos provistos en este mismo collab.\n",
    "*   **Si se eligen las opciones 1, 2 o 3:** Se debe entregar un archivo *.ipynb* (Jupyter Notebook), que podría ser descargado directamente desde Google Colaboratory, o editado con otro software, con los scripts ya ejecutados por ustedes.\n",
    "*   El archivo se debera mediante el siguiente google form: (LINK)\n"
   ]
  },
  {
   "cell_type": "markdown",
   "metadata": {
    "colab_type": "text",
    "id": "d6mrZ0toqrRx"
   },
   "source": [
    "**Fecha Limite de Entrega**: **10 de Mayo del 2020 a las 23:59hs** \n",
    "\n",
    "\n",
    "\n"
   ]
  },
  {
   "cell_type": "markdown",
   "metadata": {
    "colab_type": "text",
    "id": "sGIp0nvGf9Ac"
   },
   "source": [
    "**Corrección**\n",
    "\n",
    "*   Si el trabajo es aprobado, se le notificara via mail que ha podido ingresar con exito al curso introductorio.\n",
    "\n",
    "*   En lo contrario, se le notificara via mail que lamentablemente no ha podido ingresar al curso.\n",
    "\n",
    "\n",
    "\n",
    "---\n",
    "\n",
    "\n",
    "\n",
    "**Exitos!**"
   ]
  },
  {
   "cell_type": "markdown",
   "metadata": {
    "colab_type": "text",
    "id": "40C-h2RsTAr-"
   },
   "source": [
    "# **Opción 1: Graficador de casos del COVID-19**\n",
    "\n",
    "*Analisis y visualización de datos sobre los casos de coronavirus en distintos paises*\n",
    "\n",
    "<img width=\"450\" height=\"300\" src=\"https://cdn.pixabay.com/photo/2020/02/04/16/53/hand-washing-4818792_960_720.jpg\">\n",
    "\n",
    "En esta era de la desinformación puede resultar útil poder sacar uno mismo sus propias conclusiones acerca de los datos presentados. El objetivo de este trabajo es obtener datos de casos y muertes por el Coronavirus de un repositorio de datos online y graficar por país.\n",
    "\n",
    "* La aplicación debe recibir del usuario el nombre del país deseado y graficar casos detectados y fallecimientos totales para ese país en función del tiempo.\n",
    "* Pedir al usuario ingresar dos paises y gráficar para dichos países la cantidad de casos y fallecimientos en dos gráfico con etiquetas, el usuario debe ingresar el intervalo de tiempo a graficar. Calcular las intersecciónes entre graficos si las hubiera y marcarlas con un punto.\n",
    "* Pedir al usuario ingresar *n* países y gráficar para dichos países la cantidad de casos en una [escala logaritmica](https://es.wikipedia.org/wiki/Escala_logar%C3%ADtmica). El programa debe pedirle al usuario el intervalo de tiempo\n",
    "**Sugerencia:** \n",
    "*   Se pueden rotar las leyendas usando `plt.xticks(rotation=60)` (rotación de 60 grados). Es útil para leyendas largas, como por ejemplo, fechas.  \n",
    "*   En esta [página web](https://nexiandigitalacademy.es/visualizacion-y-procesamiento-de-datos-ante-de-la-pandemia-del-covid-19/) hay un ejemplo de gráficos logaritmicos\n",
    "\n",
    "\n",
    "\n",
    "\n"
   ]
  },
  {
   "cell_type": "code",
   "execution_count": 1,
   "metadata": {
    "colab": {
     "base_uri": "https://localhost:8080/",
     "height": 217
    },
    "colab_type": "code",
    "id": "ASU5hpqvTY62",
    "outputId": "dae50996-4b18-4795-c321-d80f036d5427"
   },
   "outputs": [
    {
     "name": "stderr",
     "output_type": "stream",
     "text": [
      "\"wget\" no se reconoce como un comando interno o externo,\n",
      "programa o archivo por lotes ejecutable.\n"
     ]
    }
   ],
   "source": [
    "!wget 'https://covid.ourworldindata.org/data/ecdc/full_data.csv'"
   ]
  },
  {
   "cell_type": "code",
   "execution_count": 0,
   "metadata": {
    "colab": {},
    "colab_type": "code",
    "id": "ybYwDnPfTSo4"
   },
   "outputs": [],
   "source": []
  },
  {
   "cell_type": "markdown",
   "metadata": {
    "colab_type": "text",
    "id": "s0qKIOh3UzGF"
   },
   "source": [
    "# **Opción 2: El mercado financiero**\n",
    "\n",
    "*Estudio comparativo del desempeño financiero de distintas empresas*\n",
    "\n",
    "<img width=\"450\" height=\"300\" src=\"https://cdn.pixabay.com/photo/2016/11/27/21/42/stock-1863880_960_720.jpg\">\n",
    "\n",
    "Puede ser muy útil visualizar la información del mercado financiero para sacar conclusiones, en esta opción de trabajo práctico la idea es estudiar comparativamente el desempeño de dos empresas en la bolsa.\n",
    "\n",
    "*   Realizar un grafico del valor de las acciones diarias de las compañias **Amazon** y **Google** utilizando dos tipos de lineas distintos. Colocar como una entrada del programa el intervalo de fechas que se desea gráficar\n",
    "*   Encontrar los puntos donde se cruzan los dos gráficos y marcarlos con puntos.\n",
    "*   Almacenar en un archivo de excel las fechas donde ocurrieron las intersecciones."
   ]
  },
  {
   "cell_type": "code",
   "execution_count": 0,
   "metadata": {
    "colab": {
     "base_uri": "https://localhost:8080/",
     "height": 391
    },
    "colab_type": "code",
    "id": "gYpFgOGgWyi9",
    "outputId": "71c6c190-d79d-4b41-a728-a07f47d137a6"
   },
   "outputs": [
    {
     "name": "stdout",
     "output_type": "stream",
     "text": [
      "--2020-05-04 16:05:19--  https://raw.githubusercontent.com/LedesmaFran/python/master/GOOGLE.csv\n",
      "Resolving raw.githubusercontent.com (raw.githubusercontent.com)... 151.101.0.133, 151.101.64.133, 151.101.128.133, ...\n",
      "Connecting to raw.githubusercontent.com (raw.githubusercontent.com)|151.101.0.133|:443... connected.\n",
      "HTTP request sent, awaiting response... 200 OK\n",
      "Length: 188655 (184K) [text/plain]\n",
      "Saving to: ‘GOOGLE.csv’\n",
      "\n",
      "\r",
      "GOOGLE.csv            0%[                    ]       0  --.-KB/s               \r",
      "GOOGLE.csv          100%[===================>] 184.23K  --.-KB/s    in 0.05s   \n",
      "\n",
      "2020-05-04 16:05:20 (3.99 MB/s) - ‘GOOGLE.csv’ saved [188655/188655]\n",
      "\n",
      "--2020-05-04 16:05:23--  https://raw.githubusercontent.com/LedesmaFran/python/master/AMZN.csv\n",
      "Resolving raw.githubusercontent.com (raw.githubusercontent.com)... 151.101.0.133, 151.101.64.133, 151.101.128.133, ...\n",
      "Connecting to raw.githubusercontent.com (raw.githubusercontent.com)|151.101.0.133|:443... connected.\n",
      "HTTP request sent, awaiting response... 200 OK\n",
      "Length: 189005 (185K) [text/plain]\n",
      "Saving to: ‘AMZN.csv’\n",
      "\n",
      "AMZN.csv            100%[===================>] 184.58K  --.-KB/s    in 0.04s   \n",
      "\n",
      "2020-05-04 16:05:24 (4.17 MB/s) - ‘AMZN.csv’ saved [189005/189005]\n",
      "\n"
     ]
    }
   ],
   "source": [
    "! wget  \"https://raw.githubusercontent.com/LedesmaFran/python/master/GOOGLE.csv\"\n",
    "! wget  \"https://raw.githubusercontent.com/LedesmaFran/python/master/AMZN.csv\""
   ]
  },
  {
   "cell_type": "code",
   "execution_count": 0,
   "metadata": {
    "colab": {},
    "colab_type": "code",
    "id": "tVf-bFSwbZYq"
   },
   "outputs": [],
   "source": []
  },
  {
   "cell_type": "markdown",
   "metadata": {
    "colab_type": "text",
    "id": "sIMvKzpzbZgi"
   },
   "source": [
    "*   Armar un programa donde se analize la información de ciertas empresas (entrada del usuario) y se las gráfique comparativamente.\n",
    "*   Gráficar la *derivada discreta* de los valores de bolsa de cada empresa, esto es, la diferencia entre el valor actual y el anterior para cada punto en el tiempo.\n",
    "\n",
    "**Sugerecia**: En esta [base de datos](https://github.com/scikit-learn/examples-data/tree/master/financial-data) esta la información de bolsa de muchas empresas, también en algunos sitios como [Yahoo Finance](https://finance.yahoo.com/) o [investing.com](https://www.investing.com/) pueden buscar información del estado de la bolsa de las empresas en formato csv o excel. "
   ]
  },
  {
   "cell_type": "code",
   "execution_count": 0,
   "metadata": {
    "colab": {},
    "colab_type": "code",
    "id": "DW5R1_uyccNq"
   },
   "outputs": [],
   "source": []
  },
  {
   "cell_type": "code",
   "execution_count": 0,
   "metadata": {
    "colab": {},
    "colab_type": "code",
    "id": "XABgEVJnQHga"
   },
   "outputs": [],
   "source": []
  },
  {
   "cell_type": "markdown",
   "metadata": {
    "colab_type": "text",
    "id": "lVowRzeIL3sr"
   },
   "source": [
    "# **Opción 3: Detección de picos en un electrocardiograma**\n",
    "\n",
    "*Analisis de una señal de un electrocardiograma para conseguir información de un paciente*\n",
    "\n",
    "<img width=\"450\" height=\"300\" src=\"https://cdn.pixabay.com/photo/2017/04/29/13/16/ecg-2270728_960_720.jpg\">\n"
   ]
  },
  {
   "cell_type": "markdown",
   "metadata": {
    "colab_type": "text",
    "id": "YeXTkpeNdBCY"
   },
   "source": [
    "Un electrocardiograma es una representación gráfica de los pulsos cardiacos. Se tiene un archivo **electrocardiograma.xlsx** con la información del resultado de un electrocardiograma en dos columnas, una tiene los valores de las mediciones en $eV$ (**señal**), y la segunda los tiempos de las mediciones (**tiempo**) que fueron tomadas con una frecuencia de 360 Hz.\n",
    "\n",
    "*   Calcular los picos del gráfico y marcarlos.\n",
    "*   Calcular las frecuencia cardiaca del paciente medida en latidos por minuto.\n",
    "*   Determinar si el electrocardiograma fue tomado mientras el paciente dormía, estaba en reposo o hacia actividad física. Tomar como referencia los [criterios de la frecuencia cardíaca](https://es.wikipedia.org/wiki/Frecuencia_card%C3%ADaca) y pedir como entrada del programa cualquier información adicional necesaria (como la edad o el género del paciente).\n",
    "*   Almacenar los resultados en un archivo de texto *.txt*\n",
    "\n",
    "\n",
    "**Sugerencia**: [find_peaks](https://docs.scipy.org/doc/scipy/reference/generated/scipy.signal.find_peaks.html)"
   ]
  },
  {
   "cell_type": "code",
   "execution_count": 0,
   "metadata": {
    "colab": {
     "base_uri": "https://localhost:8080/",
     "height": 217
    },
    "colab_type": "code",
    "id": "E_NWYz3HdDZ7",
    "outputId": "77371b7b-73f6-416d-c5a2-c30df617f609"
   },
   "outputs": [
    {
     "name": "stdout",
     "output_type": "stream",
     "text": [
      "--2020-05-03 01:42:17--  https://raw.githubusercontent.com/IEEESBITBA/Curso-Python/master/Clase_4_datos/electrocardiograma.xlsx\n",
      "Resolving raw.githubusercontent.com (raw.githubusercontent.com)... 151.101.0.133, 151.101.64.133, 151.101.128.133, ...\n",
      "Connecting to raw.githubusercontent.com (raw.githubusercontent.com)|151.101.0.133|:443... connected.\n",
      "HTTP request sent, awaiting response... 200 OK\n",
      "Length: 42529 (42K) [application/octet-stream]\n",
      "Saving to: ‘electrocardiograma.xlsx’\n",
      "\n",
      "\r",
      "electrocardiograma.   0%[                    ]       0  --.-KB/s               \r",
      "electrocardiograma. 100%[===================>]  41.53K  --.-KB/s    in 0.02s   \n",
      "\n",
      "2020-05-03 01:42:18 (1.66 MB/s) - ‘electrocardiograma.xlsx’ saved [42529/42529]\n",
      "\n"
     ]
    }
   ],
   "source": [
    "! wget \"https://raw.githubusercontent.com/IEEESBITBA/Curso-Python/master/Clase_4_datos/electrocardiograma.xlsx\""
   ]
  },
  {
   "cell_type": "code",
   "execution_count": 0,
   "metadata": {
    "colab": {},
    "colab_type": "code",
    "id": "bfo-5xKyd2Qe"
   },
   "outputs": [],
   "source": []
  }
 ],
 "metadata": {
  "colab": {
   "collapsed_sections": [],
   "name": "Trabajo para Curso Introductorio de Machine Learning.ipynb",
   "provenance": []
  },
  "kernelspec": {
   "display_name": "Python 3",
   "language": "python",
   "name": "python3"
  },
  "language_info": {
   "codemirror_mode": {
    "name": "ipython",
    "version": 3
   },
   "file_extension": ".py",
   "mimetype": "text/x-python",
   "name": "python",
   "nbconvert_exporter": "python",
   "pygments_lexer": "ipython3",
   "version": "3.7.1"
  }
 },
 "nbformat": 4,
 "nbformat_minor": 1
}
